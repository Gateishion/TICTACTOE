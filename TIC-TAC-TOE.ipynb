{
  "nbformat": 4,
  "nbformat_minor": 0,
  "metadata": {
    "colab": {
      "name": "Untitled7.ipynb",
      "provenance": []
    },
    "kernelspec": {
      "name": "python3",
      "display_name": "Python 3"
    },
    "language_info": {
      "name": "python"
    }
  },
  "cells": [
    {
      "cell_type": "markdown",
      "metadata": {
        "id": "_ZzgOQgL02H3"
      },
      "source": [
        "Simple TIC-TAC-TOE\n",
        "\n",
        "The program consists in the following:\n",
        "\n",
        "# 1. Create the Table \n",
        "\n",
        "\\begin{verbatim}\n",
        "_|_|_\n",
        "_|_|_\n",
        "  |  |\n",
        "\\end{verbatim}\n",
        "\n",
        "- Each postion has a coordinate\n",
        "\n",
        "\\begin{verbatim}\n",
        "#0 1 2 3 4  \n",
        " | |    #0\n",
        "------  #1 \n",
        " | |    #2\n",
        "------  #3 \n",
        " | |    #4\n",
        "\\end{verbatim}\n",
        "\n",
        "# 2. Define player's turn\n",
        "\n",
        "# 3. Draw X and O in the correct coordinates\n",
        "\n",
        "# 4. Limit one piece by place\n",
        "\n",
        "# 5. Define the conditions to win "
      ]
    },
    {
      "cell_type": "code",
      "metadata": {
        "id": "lVFYzKUT0PWU"
      },
      "source": [
        "# Paso 1\n",
        "\n",
        "def Tablero(Pos_list):\n",
        "  for row in range(5): #0,1,2,3,4\n",
        "    if row%2 == 0:\n",
        "      auxrow = int(row/2)\n",
        "      for col in range(5):\n",
        "        if col%2 == 0:\n",
        "          auxcol = int(col/2)\n",
        "          if col != 4: \n",
        "            print(Pos_list[auxrow][auxcol], end = \"\") \n",
        "          else:\n",
        "            print(Pos_list[auxrow][auxcol])\n",
        "        else: \n",
        "          print(\"|\", end=\"\")    \n",
        "    else:\n",
        "      print(\"-----\")\n",
        "\n",
        "\n",
        "#Tablero()"
      ],
      "execution_count": 1,
      "outputs": []
    },
    {
      "cell_type": "code",
      "metadata": {
        "colab": {
          "base_uri": "https://localhost:8080/",
          "height": 881
        },
        "id": "hsfThgn-0aZi",
        "outputId": "60f36c92-c244-46de-cc9f-27a79008866c"
      },
      "source": [
        "Posiciones = [[\" \",\" \",\" \"],[\" \",\" \",\" \"],[\" \",\" \",\" \"]]\n",
        "Jugador = 1\n",
        "\n",
        "#Condiciones de ganar\n",
        "\n",
        "def win(ps, Posiciones):\n",
        "  win1 = [ps]*3\n",
        "  win_c_1 = (Posiciones[0] == win1 or Posiciones[1] == win1 or Posiciones[2] == win1)\n",
        "  win_c_2 = (Posiciones[0][0] == ps and Posiciones[1][0] == ps and  Posiciones[2][0] == ps) or (Posiciones[0][1] == ps and Posiciones[1][1] == ps and  Posiciones[2][1] == ps) or (Posiciones[0][2] == ps and Posiciones[1][2] == ps and  Posiciones[2][2] == ps)\n",
        "  win_c_3 = (Posiciones[0][0] == ps and Posiciones[1][1] == ps and Posiciones[2][2] == ps) or (Posiciones[0][2] == ps and Posiciones[1][1] == ps and Posiciones[2][0] == ps)\n",
        "  return [win_c_1, win_c_2, win_c_3]\n",
        "\n",
        "\n",
        "\n",
        "#Tablero(Posiciones)\n",
        "\n",
        "while(True):\n",
        "  \n",
        "  Empate = (\" \" in Posiciones[0]) or (\" \" in Posiciones[1]) or (\" \" in Posiciones[2]) \n",
        "\n",
        "  print(\"Le toca al jugador\", Jugador,\"\\ningresa las coordenadas de tu movimiento:\")\n",
        "\n",
        "  Tablero(Posiciones)\n",
        "  #print(Posiciones)\n",
        "  #print(Empate)\n",
        "  if win(\"X\", Posiciones)[0] == True or win(\"X\", Posiciones)[1] == True or win(\"X\", Posiciones)[2] == True:  \n",
        "          print(\"\\n Gana Jugador 1\")\n",
        "          break\n",
        "  elif win(\"O\", Posiciones)[0] == True or win(\"O\", Posiciones)[1] == True or win(\"O\", Posiciones)[2] == True:  \n",
        "          print(\"\\n Gana Jugador 2\")\n",
        "          break \n",
        "  elif Empate == False:\n",
        "        print(\"\\n Empate!\")\n",
        "        break                \n",
        "  MovRow = int(input(\"Dame el renglón: \"))\n",
        "  MovCol = int(input(\"Dame la columna: \"))\n",
        "  if Jugador == 1: \n",
        "    if Posiciones[MovRow][MovCol] == \" \":\n",
        "      Posiciones[MovRow][MovCol] = \"X\" \n",
        "      Jugador = 2  \n",
        "  else: \n",
        "     if Posiciones[MovRow][MovCol] == \" \":\n",
        "      Posiciones[MovRow][MovCol] = \"O\"\n",
        "      Jugador = 1  \n",
        "  \n",
        "  "
      ],
      "execution_count": 3,
      "outputs": [
        {
          "output_type": "stream",
          "text": [
            "Le toca al jugador 1 \n",
            "ingresa las coordenadas de tu movimiento:\n",
            " | | \n",
            "-----\n",
            " | | \n",
            "-----\n",
            " | | \n",
            "Dame el renglón: 0\n",
            "Dame la columna: 0\n",
            "Le toca al jugador 2 \n",
            "ingresa las coordenadas de tu movimiento:\n",
            "X| | \n",
            "-----\n",
            " | | \n",
            "-----\n",
            " | | \n",
            "Dame el renglón: 1\n",
            "Dame la columna: 1\n",
            "Le toca al jugador 1 \n",
            "ingresa las coordenadas de tu movimiento:\n",
            "X| | \n",
            "-----\n",
            " |O| \n",
            "-----\n",
            " | | \n",
            "Dame el renglón: 2\n",
            "Dame la columna: 1\n",
            "Le toca al jugador 2 \n",
            "ingresa las coordenadas de tu movimiento:\n",
            "X| | \n",
            "-----\n",
            " |O| \n",
            "-----\n",
            " |X| \n",
            "Dame el renglón: 3\n",
            "Dame la columna: 3\n"
          ],
          "name": "stdout"
        },
        {
          "output_type": "error",
          "ename": "IndexError",
          "evalue": "ignored",
          "traceback": [
            "\u001b[0;31m---------------------------------------------------------------------------\u001b[0m",
            "\u001b[0;31mIndexError\u001b[0m                                Traceback (most recent call last)",
            "\u001b[0;32m<ipython-input-3-ccd6bbbc7c36>\u001b[0m in \u001b[0;36m<module>\u001b[0;34m()\u001b[0m\n\u001b[1;32m     40\u001b[0m       \u001b[0mJugador\u001b[0m \u001b[0;34m=\u001b[0m \u001b[0;36m2\u001b[0m\u001b[0;34m\u001b[0m\u001b[0;34m\u001b[0m\u001b[0m\n\u001b[1;32m     41\u001b[0m   \u001b[0;32melse\u001b[0m\u001b[0;34m:\u001b[0m\u001b[0;34m\u001b[0m\u001b[0;34m\u001b[0m\u001b[0m\n\u001b[0;32m---> 42\u001b[0;31m      \u001b[0;32mif\u001b[0m \u001b[0mPosiciones\u001b[0m\u001b[0;34m[\u001b[0m\u001b[0mMovRow\u001b[0m\u001b[0;34m]\u001b[0m\u001b[0;34m[\u001b[0m\u001b[0mMovCol\u001b[0m\u001b[0;34m]\u001b[0m \u001b[0;34m==\u001b[0m \u001b[0;34m\" \"\u001b[0m\u001b[0;34m:\u001b[0m\u001b[0;34m\u001b[0m\u001b[0;34m\u001b[0m\u001b[0m\n\u001b[0m\u001b[1;32m     43\u001b[0m       \u001b[0mPosiciones\u001b[0m\u001b[0;34m[\u001b[0m\u001b[0mMovRow\u001b[0m\u001b[0;34m]\u001b[0m\u001b[0;34m[\u001b[0m\u001b[0mMovCol\u001b[0m\u001b[0;34m]\u001b[0m \u001b[0;34m=\u001b[0m \u001b[0;34m\"O\"\u001b[0m\u001b[0;34m\u001b[0m\u001b[0;34m\u001b[0m\u001b[0m\n\u001b[1;32m     44\u001b[0m       \u001b[0mJugador\u001b[0m \u001b[0;34m=\u001b[0m \u001b[0;36m1\u001b[0m\u001b[0;34m\u001b[0m\u001b[0;34m\u001b[0m\u001b[0m\n",
            "\u001b[0;31mIndexError\u001b[0m: list index out of range"
          ]
        }
      ]
    }
  ]
}